{
 "cells": [
  {
   "cell_type": "code",
   "execution_count": 2,
   "id": "e188b080-2c44-4a4e-9aa3-cefc465a3709",
   "metadata": {},
   "outputs": [],
   "source": [
    "# Import modules\n",
    "import requests\n",
    "import pandas as pd\n",
    "from datetime import date\n",
    "from datetime import timedelta"
   ]
  },
  {
   "cell_type": "code",
   "execution_count": 3,
   "id": "d84f3e0d",
   "metadata": {},
   "outputs": [],
   "source": [
    "import json"
   ]
  },
  {
   "cell_type": "code",
   "execution_count": 30,
   "id": "d5b09f44",
   "metadata": {},
   "outputs": [
    {
     "name": "stdout",
     "output_type": "stream",
     "text": [
      "['c:\\\\Users\\\\kickk\\\\USC Class\\\\DSCI 510\\\\final_project_dsci510', 'c:\\\\ProgramData\\\\Anaconda3\\\\python38.zip', 'c:\\\\ProgramData\\\\Anaconda3\\\\DLLs', 'c:\\\\ProgramData\\\\Anaconda3\\\\lib', 'c:\\\\ProgramData\\\\Anaconda3', '', 'C:\\\\Users\\\\kickk\\\\AppData\\\\Roaming\\\\Python\\\\Python38\\\\site-packages', 'c:\\\\ProgramData\\\\Anaconda3\\\\lib\\\\site-packages', 'c:\\\\ProgramData\\\\Anaconda3\\\\lib\\\\site-packages\\\\locket-0.2.1-py3.8.egg', 'c:\\\\ProgramData\\\\Anaconda3\\\\lib\\\\site-packages\\\\win32', 'c:\\\\ProgramData\\\\Anaconda3\\\\lib\\\\site-packages\\\\win32\\\\lib', 'c:\\\\ProgramData\\\\Anaconda3\\\\lib\\\\site-packages\\\\Pythonwin', 'c:\\\\ProgramData\\\\Anaconda3\\\\lib\\\\site-packages\\\\IPython\\\\extensions', 'C:\\\\Users\\\\kickk\\\\.ipython']\n"
     ]
    }
   ],
   "source": [
    "import sys\n",
    "print(sys.path)"
   ]
  },
  {
   "cell_type": "code",
   "execution_count": 33,
   "id": "e61a24da-15c4-4542-b0ff-983897b19c19",
   "metadata": {},
   "outputs": [
    {
     "data": {
      "text/plain": [
       "'2010-11-11'"
      ]
     },
     "execution_count": 33,
     "metadata": {},
     "output_type": "execute_result"
    }
   ],
   "source": [
    "starttimedd"
   ]
  },
  {
   "cell_type": "code",
   "execution_count": 34,
   "id": "4f3a9d5b-9b60-4c35-a743-1abb306ad6ba",
   "metadata": {},
   "outputs": [
    {
     "data": {
      "text/plain": [
       "'2011-11-11'"
      ]
     },
     "execution_count": 34,
     "metadata": {},
     "output_type": "execute_result"
    }
   ],
   "source": [
    "endtime"
   ]
  },
  {
   "cell_type": "code",
   "execution_count": 35,
   "id": "ff8559ed-615f-4ded-906b-013c1a9c1533",
   "metadata": {},
   "outputs": [],
   "source": [
    "main_web = 'https://earthquake.usgs.gov/fdsnws/event/1/query?'"
   ]
  },
  {
   "cell_type": "code",
   "execution_count": 37,
   "id": "8de14bee-f0b1-44d4-ab53-251e6f6a9eb5",
   "metadata": {},
   "outputs": [
    {
     "name": "stdout",
     "output_type": "stream",
     "text": [
      "https://earthquake.usgs.gov/fdsnws/event/1/query?format=geojson&starttime=2010-11-11&endtime=2011-11-11&eventtype=earthquake&minlatitude=32.5&maxlatitude=34.5&minlongitude=-119.75&maxlatitude=34.5&orderby=time-asc&limit=10000\n"
     ]
    }
   ],
   "source": [
    "print(web_str)"
   ]
  },
  {
   "cell_type": "code",
   "execution_count": null,
   "id": "3d0035dc-36a1-49ab-a280-b9a4bdddba76",
   "metadata": {},
   "outputs": [],
   "source": []
  },
  {
   "cell_type": "code",
   "execution_count": 17,
   "id": "7e17c0e2-3d43-4de2-9c59-8daf96ee0b5d",
   "metadata": {},
   "outputs": [],
   "source": [
    "import os\n",
    "file = 'earthquakes.csv'"
   ]
  },
  {
   "cell_type": "code",
   "execution_count": 18,
   "id": "4dc52ef7-c603-490f-8413-04bb5b08a322",
   "metadata": {},
   "outputs": [],
   "source": [
    "f_path = os.path.join(os.getcwd(), file)\n"
   ]
  },
  {
   "cell_type": "code",
   "execution_count": 19,
   "id": "207d4496",
   "metadata": {},
   "outputs": [
    {
     "data": {
      "text/plain": [
       "'c:\\\\Users\\\\kickk\\\\USC Class\\\\DSCI 510\\\\final_project_dsci510\\\\earthquakes.csv'"
      ]
     },
     "execution_count": 19,
     "metadata": {},
     "output_type": "execute_result"
    }
   ],
   "source": [
    "f_path"
   ]
  },
  {
   "cell_type": "code",
   "execution_count": 26,
   "id": "982f8ce8-fbea-447f-9770-7c8b50d2052d",
   "metadata": {},
   "outputs": [
    {
     "name": "stdout",
     "output_type": "stream",
     "text": [
      "                                   magnitude         lat       long  \\\n",
      "M 1.7 - 6km E of Calimesa, CA           1.65 -116.987333  33.991000   \n",
      "M 0.9 - 12km SE of Anza, CA             0.87 -116.569833  33.486000   \n",
      "M 0.5 - 14km SE of Anza, CA             0.46 -116.551833  33.476167   \n",
      "M 0.7 - 7km SW of Niland, CA            0.70 -115.577167  33.204833   \n",
      "M 0.6 - 7km WSW of Niland, CA           0.60 -115.579667  33.207167   \n",
      "...                                      ...         ...        ...   \n",
      "M 0.2 - 23km ESE of Anza, CA            0.17 -116.445167  33.469000   \n",
      "M 0.6 - 8km N of Anza, CA               0.64 -116.671167  33.629000   \n",
      "M 1.2 - 10km NNW of Banning, CA         1.22 -116.912333  34.007000   \n",
      "M 1.3 - 10km N of Anza, CA              1.29 -116.672500  33.640000   \n",
      "M 1.9 - 4km NNW of San Ysidro, CA       1.93 -117.059167  32.584667   \n",
      "\n",
      "                                   depth (km)  \n",
      "M 1.7 - 6km E of Calimesa, CA          15.806  \n",
      "M 0.9 - 12km SE of Anza, CA             7.109  \n",
      "M 0.5 - 14km SE of Anza, CA             9.864  \n",
      "M 0.7 - 7km SW of Niland, CA            0.073  \n",
      "M 0.6 - 7km WSW of Niland, CA           1.963  \n",
      "...                                       ...  \n",
      "M 0.2 - 23km ESE of Anza, CA           -1.184  \n",
      "M 0.6 - 8km N of Anza, CA              13.191  \n",
      "M 1.2 - 10km NNW of Banning, CA        17.491  \n",
      "M 1.3 - 10km N of Anza, CA             15.936  \n",
      "M 1.9 - 4km NNW of San Ysidro, CA      10.575  \n",
      "\n",
      "[500 rows x 4 columns]\n"
     ]
    }
   ],
   "source": [
    "year = int(input('Enter a year before 2010: '))\n",
    "month = int(input('Enter a month: '))\n",
    "day = int(input('Enter a day: '))\n",
    "\n",
    "\n",
    "d = date(year, month, day)\n",
    "starttime = d.strftime(\"%Y-%m-%d\")\n",
    "yesterday = d + timedelta(days = 365*1)\n",
    "endtime = yesterday.strftime(\"%Y-%m-%d\")\n",
    "\n",
    "main_web = 'https://earthquake.usgs.gov/fdsnws/event/1/query?'\n",
    "\n",
    "minlatitude = 'minlatitude=32.5'\n",
    "maxlatitude = 'maxlatitude=34.5'\n",
    "minlongitude = 'minlongitude=-119.75'\n",
    "maxlongitude = 'maxlongitude=-114.9'\n",
    "limit = 'limit=' + input(\"Please enter number limit of earthquakes (recommended less than 19000): \")\n",
    "\n",
    "paragms = ['format=geojson',f'starttime={starttime}',f'endtime={endtime}', 'eventtype=earthquake', (minlatitude), (maxlatitude), (minlongitude), (maxlatitude), 'orderby=time-asc', limit]\n",
    "\n",
    "web_str = main_web + '&'.join(paragms) \n",
    "\n",
    "response = requests.get(web_str).json()\n",
    "\n",
    "coords = []\n",
    "location = []\n",
    "mags = []\n",
    "for k,v in response.items():\n",
    "    if k == \"features\":\n",
    "        for i,each in enumerate(v):\n",
    "            # Get the coordinates within \"geometry\" dict\n",
    "            if \"geometry\" in each:\n",
    "                coords.append(each[\"geometry\"][\"coordinates\"])\n",
    "                location.append(each[\"properties\"][\"title\"])\n",
    "                mags.append(each[\"properties\"][\"mag\"])\n",
    "\n",
    "info = []\n",
    "for coord,mag in zip(coords, mags):\n",
    "    coord.insert(0, mag)\n",
    "\n",
    "    info.append(coord)\n",
    "\n",
    "headers = [\"magnitude\",'lat','long','depth (km)']\n",
    "df = pd.DataFrame(data = info, index=location, columns = headers)\n",
    "print(df)"
   ]
  },
  {
   "cell_type": "code",
   "execution_count": 25,
   "id": "24e4a7a2",
   "metadata": {},
   "outputs": [
    {
     "data": {
      "text/plain": [
       "[0.68, -116.8615, 33.3358333, 11.295]"
      ]
     },
     "execution_count": 25,
     "metadata": {},
     "output_type": "execute_result"
    }
   ],
   "source": [
    "sum[0]"
   ]
  },
  {
   "cell_type": "code",
   "execution_count": 4,
   "id": "5e7498c0",
   "metadata": {},
   "outputs": [],
   "source": [
    "year = int(input('Enter a year before 2010: '))\n",
    "month = int(input('Enter a month: '))\n",
    "day = int(input('Enter a day: '))\n",
    "\n",
    "\n",
    "d = date(year, month, day)\n",
    "starttime = d.strftime(\"%Y-%m-%d\")\n",
    "yesterday = d + timedelta(days = 365*1)\n",
    "endtime = yesterday.strftime(\"%Y-%m-%d\")\n",
    "\n",
    "main_web = 'https://earthquake.usgs.gov/fdsnws/event/1/query?'\n",
    "\n",
    "minlatitude = 'minlatitude=32.5'\n",
    "maxlatitude = 'maxlatitude=34.5'\n",
    "minlongitude = 'minlongitude=-119.75'\n",
    "maxlongitude = 'maxlongitude=-114.9'\n",
    "limit = 'limit=' + input(\"Please enter number limit of earthquakes (recommended less than 19000): \")\n",
    "\n",
    "paragms = ['format=geojson',f'starttime={starttime}',f'endtime={endtime}', 'eventtype=earthquake', (minlatitude), (maxlatitude), (minlongitude), (maxlatitude), 'orderby=time-asc', limit]\n",
    "\n",
    "web_str = main_web + '&'.join(paragms) \n",
    "\n",
    "response = requests.get(web_str).json()"
   ]
  },
  {
   "cell_type": "code",
   "execution_count": null,
   "id": "8fc50d79",
   "metadata": {},
   "outputs": [],
   "source": [
    "coords = []\n",
    "location = []\n",
    "for k,v in response.items():\n",
    "    if k == \"features\":\n",
    "        for i,each in enumerate(v):\n",
    "            # Get the coordinates within \"geometry\" dict\n",
    "            if \"geometry\" in each:\n",
    "                coords.append(each[\"geometry\"][\"coordinates\"])\n",
    "                location.append(each[\"properties\"][\"title\"])"
   ]
  },
  {
   "cell_type": "code",
   "execution_count": 21,
   "id": "8d858836",
   "metadata": {},
   "outputs": [],
   "source": [
    "df.to_csv(f_path)"
   ]
  },
  {
   "cell_type": "code",
   "execution_count": 22,
   "id": "15baabae",
   "metadata": {},
   "outputs": [],
   "source": [
    "read_path = os.path.join(os.getcwd(), file)\n",
    "\n",
    "df = pd.read_csv(read_path)"
   ]
  },
  {
   "cell_type": "code",
   "execution_count": 24,
   "id": "ed31a42c",
   "metadata": {},
   "outputs": [
    {
     "data": {
      "text/html": [
       "<div>\n",
       "<style scoped>\n",
       "    .dataframe tbody tr th:only-of-type {\n",
       "        vertical-align: middle;\n",
       "    }\n",
       "\n",
       "    .dataframe tbody tr th {\n",
       "        vertical-align: top;\n",
       "    }\n",
       "\n",
       "    .dataframe thead th {\n",
       "        text-align: right;\n",
       "    }\n",
       "</style>\n",
       "<table border=\"1\" class=\"dataframe\">\n",
       "  <thead>\n",
       "    <tr style=\"text-align: right;\">\n",
       "      <th></th>\n",
       "      <th>Unnamed: 0</th>\n",
       "      <th>lat</th>\n",
       "      <th>long</th>\n",
       "      <th>depth (km)</th>\n",
       "    </tr>\n",
       "  </thead>\n",
       "  <tbody>\n",
       "    <tr>\n",
       "      <th>0</th>\n",
       "      <td>M 1.6 - 27km WSW of Westmorland, CA</td>\n",
       "      <td>-115.894833</td>\n",
       "      <td>32.969833</td>\n",
       "      <td>7.964</td>\n",
       "    </tr>\n",
       "    <tr>\n",
       "      <th>1</th>\n",
       "      <td>M 0.6 - 8km E of Palomar Observatory, CA</td>\n",
       "      <td>-116.774833</td>\n",
       "      <td>33.359333</td>\n",
       "      <td>11.561</td>\n",
       "    </tr>\n",
       "    <tr>\n",
       "      <th>2</th>\n",
       "      <td>M 2.1 - 12km N of Banning, CA</td>\n",
       "      <td>-116.851500</td>\n",
       "      <td>34.034167</td>\n",
       "      <td>11.028</td>\n",
       "    </tr>\n",
       "    <tr>\n",
       "      <th>3</th>\n",
       "      <td>M 1.4 - 6km SW of Pinon Hills, CA</td>\n",
       "      <td>-117.687833</td>\n",
       "      <td>34.397667</td>\n",
       "      <td>7.268</td>\n",
       "    </tr>\n",
       "    <tr>\n",
       "      <th>4</th>\n",
       "      <td>M 0.7 - 7km NE of Indio, CA</td>\n",
       "      <td>-116.151833</td>\n",
       "      <td>33.759833</td>\n",
       "      <td>6.995</td>\n",
       "    </tr>\n",
       "    <tr>\n",
       "      <th>5</th>\n",
       "      <td>M 0.8 - 15km N of Borrego Springs, CA</td>\n",
       "      <td>-116.403500</td>\n",
       "      <td>33.388833</td>\n",
       "      <td>4.335</td>\n",
       "    </tr>\n",
       "    <tr>\n",
       "      <th>6</th>\n",
       "      <td>M 1.3 - 10km N of Big Bear Lake, CA</td>\n",
       "      <td>-116.915333</td>\n",
       "      <td>34.331833</td>\n",
       "      <td>3.357</td>\n",
       "    </tr>\n",
       "    <tr>\n",
       "      <th>7</th>\n",
       "      <td>M 1.4 - 1km E of Ocotillo, CA</td>\n",
       "      <td>-115.979500</td>\n",
       "      <td>32.737167</td>\n",
       "      <td>4.835</td>\n",
       "    </tr>\n",
       "    <tr>\n",
       "      <th>8</th>\n",
       "      <td>M 1.4 - 11km NNE of Yucaipa, CA</td>\n",
       "      <td>-117.015500</td>\n",
       "      <td>34.132500</td>\n",
       "      <td>7.611</td>\n",
       "    </tr>\n",
       "    <tr>\n",
       "      <th>9</th>\n",
       "      <td>M 1.3 - 13km W of Progreso, B.C., MX</td>\n",
       "      <td>-115.721167</td>\n",
       "      <td>32.570000</td>\n",
       "      <td>3.273</td>\n",
       "    </tr>\n",
       "  </tbody>\n",
       "</table>\n",
       "</div>"
      ],
      "text/plain": [
       "                                 Unnamed: 0         lat       long  depth (km)\n",
       "0       M 1.6 - 27km WSW of Westmorland, CA -115.894833  32.969833       7.964\n",
       "1  M 0.6 - 8km E of Palomar Observatory, CA -116.774833  33.359333      11.561\n",
       "2             M 2.1 - 12km N of Banning, CA -116.851500  34.034167      11.028\n",
       "3         M 1.4 - 6km SW of Pinon Hills, CA -117.687833  34.397667       7.268\n",
       "4               M 0.7 - 7km NE of Indio, CA -116.151833  33.759833       6.995\n",
       "5     M 0.8 - 15km N of Borrego Springs, CA -116.403500  33.388833       4.335\n",
       "6       M 1.3 - 10km N of Big Bear Lake, CA -116.915333  34.331833       3.357\n",
       "7             M 1.4 - 1km E of Ocotillo, CA -115.979500  32.737167       4.835\n",
       "8           M 1.4 - 11km NNE of Yucaipa, CA -117.015500  34.132500       7.611\n",
       "9      M 1.3 - 13km W of Progreso, B.C., MX -115.721167  32.570000       3.273"
      ]
     },
     "execution_count": 24,
     "metadata": {},
     "output_type": "execute_result"
    }
   ],
   "source": [
    "df.head(10)"
   ]
  }
 ],
 "metadata": {
  "kernelspec": {
   "display_name": "Python 3",
   "language": "python",
   "name": "python3"
  },
  "language_info": {
   "codemirror_mode": {
    "name": "ipython",
    "version": 3
   },
   "file_extension": ".py",
   "mimetype": "text/x-python",
   "name": "python",
   "nbconvert_exporter": "python",
   "pygments_lexer": "ipython3",
   "version": "3.8.8 (default, Apr 13 2021, 15:08:03) [MSC v.1916 64 bit (AMD64)]"
  },
  "vscode": {
   "interpreter": {
    "hash": "ad2bdc8ecc057115af97d19610ffacc2b4e99fae6737bb82f5d7fb13d2f2c186"
   }
  }
 },
 "nbformat": 4,
 "nbformat_minor": 5
}
