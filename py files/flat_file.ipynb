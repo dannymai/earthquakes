{
 "cells": [
  {
   "cell_type": "code",
   "execution_count": 31,
   "metadata": {},
   "outputs": [],
   "source": [
    "import pandas as pd\n",
    "import numpy as np\n",
    "import os\n",
    "from matplotlib import pyplot as plt\n",
    "from matplotlib import ticker "
   ]
  },
  {
   "cell_type": "code",
   "execution_count": 98,
   "metadata": {},
   "outputs": [
    {
     "data": {
      "text/html": [
       "<div>\n",
       "<style scoped>\n",
       "    .dataframe tbody tr th:only-of-type {\n",
       "        vertical-align: middle;\n",
       "    }\n",
       "\n",
       "    .dataframe tbody tr th {\n",
       "        vertical-align: top;\n",
       "    }\n",
       "\n",
       "    .dataframe thead th {\n",
       "        text-align: right;\n",
       "    }\n",
       "</style>\n",
       "<table border=\"1\" class=\"dataframe\">\n",
       "  <thead>\n",
       "    <tr style=\"text-align: right;\">\n",
       "      <th></th>\n",
       "      <th>EQID</th>\n",
       "      <th>Earthquake Name</th>\n",
       "      <th>Moment Magnitude</th>\n",
       "      <th>Magnitude Type</th>\n",
       "      <th>Finite Fault Flag</th>\n",
       "      <th>Hypocenter Latitude (deg)</th>\n",
       "      <th>Hypocenter Longitude (deg)</th>\n",
       "      <th>Hypocenter Depth (km)</th>\n",
       "      <th>Total Fault Length (km)</th>\n",
       "      <th>Total Fault Width (km)</th>\n",
       "      <th>...</th>\n",
       "      <th>Depth: ULC (km).10</th>\n",
       "      <th>Segment Number.11</th>\n",
       "      <th>Strike (deg).11</th>\n",
       "      <th>Dip  (deg).11</th>\n",
       "      <th>Length (km).11</th>\n",
       "      <th>Width (km).11</th>\n",
       "      <th>Rake (deg).11</th>\n",
       "      <th>Latitude: Upper Left Corner (ULC) (deg)</th>\n",
       "      <th>Longitude: ULC  (deg).11</th>\n",
       "      <th>Depth: ULC (km).11</th>\n",
       "    </tr>\n",
       "  </thead>\n",
       "  <tbody>\n",
       "    <tr>\n",
       "      <th>0</th>\n",
       "      <td>1</td>\n",
       "      <td>Helena, Montana-01</td>\n",
       "      <td>6.0</td>\n",
       "      <td>Mw</td>\n",
       "      <td>0</td>\n",
       "      <td>46.61</td>\n",
       "      <td>-111.960</td>\n",
       "      <td>6.0</td>\n",
       "      <td>16.2</td>\n",
       "      <td>4.2</td>\n",
       "      <td>...</td>\n",
       "      <td>NaN</td>\n",
       "      <td>NaN</td>\n",
       "      <td>NaN</td>\n",
       "      <td>NaN</td>\n",
       "      <td>NaN</td>\n",
       "      <td>NaN</td>\n",
       "      <td>NaN</td>\n",
       "      <td>NaN</td>\n",
       "      <td>NaN</td>\n",
       "      <td>NaN</td>\n",
       "    </tr>\n",
       "    <tr>\n",
       "      <th>1</th>\n",
       "      <td>2</td>\n",
       "      <td>Helena, Montana-02</td>\n",
       "      <td>6.0</td>\n",
       "      <td>U</td>\n",
       "      <td>0</td>\n",
       "      <td>46.62</td>\n",
       "      <td>-111.970</td>\n",
       "      <td>6.0</td>\n",
       "      <td>15.3</td>\n",
       "      <td>7.9</td>\n",
       "      <td>...</td>\n",
       "      <td>NaN</td>\n",
       "      <td>NaN</td>\n",
       "      <td>NaN</td>\n",
       "      <td>NaN</td>\n",
       "      <td>NaN</td>\n",
       "      <td>NaN</td>\n",
       "      <td>NaN</td>\n",
       "      <td>NaN</td>\n",
       "      <td>NaN</td>\n",
       "      <td>NaN</td>\n",
       "    </tr>\n",
       "    <tr>\n",
       "      <th>2</th>\n",
       "      <td>3</td>\n",
       "      <td>Humbolt Bay</td>\n",
       "      <td>5.8</td>\n",
       "      <td>Mw</td>\n",
       "      <td>0</td>\n",
       "      <td>40.40</td>\n",
       "      <td>-125.100</td>\n",
       "      <td>10.0</td>\n",
       "      <td>8.9</td>\n",
       "      <td>8.3</td>\n",
       "      <td>...</td>\n",
       "      <td>NaN</td>\n",
       "      <td>NaN</td>\n",
       "      <td>NaN</td>\n",
       "      <td>NaN</td>\n",
       "      <td>NaN</td>\n",
       "      <td>NaN</td>\n",
       "      <td>NaN</td>\n",
       "      <td>NaN</td>\n",
       "      <td>NaN</td>\n",
       "      <td>NaN</td>\n",
       "    </tr>\n",
       "    <tr>\n",
       "      <th>3</th>\n",
       "      <td>4</td>\n",
       "      <td>Imperial Valley-01</td>\n",
       "      <td>5.0</td>\n",
       "      <td>U</td>\n",
       "      <td>0</td>\n",
       "      <td>32.90</td>\n",
       "      <td>-115.217</td>\n",
       "      <td>16.0</td>\n",
       "      <td>2.2</td>\n",
       "      <td>3.8</td>\n",
       "      <td>...</td>\n",
       "      <td>NaN</td>\n",
       "      <td>NaN</td>\n",
       "      <td>NaN</td>\n",
       "      <td>NaN</td>\n",
       "      <td>NaN</td>\n",
       "      <td>NaN</td>\n",
       "      <td>NaN</td>\n",
       "      <td>NaN</td>\n",
       "      <td>NaN</td>\n",
       "      <td>NaN</td>\n",
       "    </tr>\n",
       "    <tr>\n",
       "      <th>4</th>\n",
       "      <td>5</td>\n",
       "      <td>Northwest Calif-01</td>\n",
       "      <td>5.5</td>\n",
       "      <td>Mw</td>\n",
       "      <td>0</td>\n",
       "      <td>40.30</td>\n",
       "      <td>-124.800</td>\n",
       "      <td>10.0</td>\n",
       "      <td>4.4</td>\n",
       "      <td>5.7</td>\n",
       "      <td>...</td>\n",
       "      <td>NaN</td>\n",
       "      <td>NaN</td>\n",
       "      <td>NaN</td>\n",
       "      <td>NaN</td>\n",
       "      <td>NaN</td>\n",
       "      <td>NaN</td>\n",
       "      <td>NaN</td>\n",
       "      <td>NaN</td>\n",
       "      <td>NaN</td>\n",
       "      <td>NaN</td>\n",
       "    </tr>\n",
       "  </tbody>\n",
       "</table>\n",
       "<p>5 rows × 120 columns</p>\n",
       "</div>"
      ],
      "text/plain": [
       "  EQID     Earthquake Name  Moment Magnitude Magnitude Type  \\\n",
       "0    1  Helena, Montana-01               6.0             Mw   \n",
       "1    2  Helena, Montana-02               6.0              U   \n",
       "2    3         Humbolt Bay               5.8             Mw   \n",
       "3    4  Imperial Valley-01               5.0              U   \n",
       "4    5  Northwest Calif-01               5.5             Mw   \n",
       "\n",
       "   Finite Fault Flag  Hypocenter Latitude (deg)  Hypocenter Longitude (deg)  \\\n",
       "0                  0                      46.61                    -111.960   \n",
       "1                  0                      46.62                    -111.970   \n",
       "2                  0                      40.40                    -125.100   \n",
       "3                  0                      32.90                    -115.217   \n",
       "4                  0                      40.30                    -124.800   \n",
       "\n",
       "   Hypocenter Depth (km)  Total Fault Length (km)  Total Fault Width (km)  \\\n",
       "0                    6.0                     16.2                     4.2   \n",
       "1                    6.0                     15.3                     7.9   \n",
       "2                   10.0                      8.9                     8.3   \n",
       "3                   16.0                      2.2                     3.8   \n",
       "4                   10.0                      4.4                     5.7   \n",
       "\n",
       "   ...  Depth: ULC (km).10  Segment Number.11  Strike (deg).11  Dip  (deg).11  \\\n",
       "0  ...                 NaN                NaN              NaN            NaN   \n",
       "1  ...                 NaN                NaN              NaN            NaN   \n",
       "2  ...                 NaN                NaN              NaN            NaN   \n",
       "3  ...                 NaN                NaN              NaN            NaN   \n",
       "4  ...                 NaN                NaN              NaN            NaN   \n",
       "\n",
       "    Length (km).11  Width (km).11  Rake (deg).11  \\\n",
       "0              NaN            NaN            NaN   \n",
       "1              NaN            NaN            NaN   \n",
       "2              NaN            NaN            NaN   \n",
       "3              NaN            NaN            NaN   \n",
       "4              NaN            NaN            NaN   \n",
       "\n",
       "   Latitude: Upper Left Corner (ULC) (deg)  Longitude: ULC  (deg).11  \\\n",
       "0                                      NaN                       NaN   \n",
       "1                                      NaN                       NaN   \n",
       "2                                      NaN                       NaN   \n",
       "3                                      NaN                       NaN   \n",
       "4                                      NaN                       NaN   \n",
       "\n",
       "   Depth: ULC (km).11  \n",
       "0                 NaN  \n",
       "1                 NaN  \n",
       "2                 NaN  \n",
       "3                 NaN  \n",
       "4                 NaN  \n",
       "\n",
       "[5 rows x 120 columns]"
      ]
     },
     "execution_count": 98,
     "metadata": {},
     "output_type": "execute_result"
    }
   ],
   "source": [
    "f_path = os.path.join(os.getcwd(), 'NGA_West2_finitefault.csv')\n",
    "\n",
    "nga = pd.read_csv(f_path)\n",
    "\n",
    "nga.head(5)"
   ]
  },
  {
   "cell_type": "code",
   "execution_count": 88,
   "metadata": {},
   "outputs": [],
   "source": [
    "nga.drop(nga[\"Hypocenter Depth (km)\"].idxmax(), inplace=True)\n"
   ]
  },
  {
   "cell_type": "code",
   "execution_count": 86,
   "metadata": {},
   "outputs": [
    {
     "data": {
      "text/plain": [
       "7.9"
      ]
     },
     "execution_count": 86,
     "metadata": {},
     "output_type": "execute_result"
    }
   ],
   "source": []
  },
  {
   "cell_type": "code",
   "execution_count": 115,
   "metadata": {},
   "outputs": [],
   "source": [
    "\n",
    "momag = nga[\"Moment Magnitude\"].to_numpy()\n",
    "dep = nga[\"Hypocenter Depth (km)\"].to_numpy()\n",
    "\n",
    "# momag = momag[~(np.isnan(momag))]\n",
    "# dep = dep[~(np.isnan(dep))]\n",
    "\n",
    "\n",
    "true_momag = list(map(lambda x: x*1.5+16, momag))\n",
    "for i in range(0,5):\n",
    "    try:\n",
    "        m = np.polyfit(momag, dep, i)\n",
    "\n",
    "    except:\n",
    "        continue"
   ]
  },
  {
   "cell_type": "code",
   "execution_count": 116,
   "metadata": {},
   "outputs": [
    {
     "data": {
      "text/plain": [
       "array([9.84232598])"
      ]
     },
     "execution_count": 116,
     "metadata": {},
     "output_type": "execute_result"
    }
   ],
   "source": [
    "m"
   ]
  },
  {
   "cell_type": "code",
   "execution_count": 118,
   "metadata": {},
   "outputs": [
    {
     "data": {
      "image/png": "[encoded data removed]",
      "text/plain": [
       "<Figure size 576x576 with 1 Axes>"
      ]
     },
     "metadata": {
      "needs_background": "light"
     },
     "output_type": "display_data"
    }
   ],
   "source": [
    "\"\"\"PLOTTING DATA ANALYSIS\"\"\"\n",
    "\n",
    "fig, ax = plt.subplots()\n",
    "fig.set_figheight(8)\n",
    "fig.set_figwidth(8)\n",
    "\n",
    "\n",
    "ax.plot(momag, dep, marker='o', color='m', markeredgecolor='black', linestyle='None',\n",
    "alpha = 0.5)\n",
    "\n",
    "ax.plot(momag, momag*m, linestyle='--', color='purple')\n",
    "\n",
    "ax.set_xlabel(\"Magnitude\", fontsize = 8)\n",
    "ax.set_ylabel(\"Hypocenter depth in km\", fontsize=8)\n",
    "\n",
    "ax.set_xscale('linear')\n",
    "\n",
    "plt.title('Observed Moment vs. Depth in km')\n",
    "\n",
    "ticker.FormatStrFormatter('?%2f')\n",
    "\n",
    "\n",
    "plt.grid(which = 'both', axis='x')\n",
    "plt.show()"
   ]
  },
  {
   "cell_type": "code",
   "execution_count": 10,
   "metadata": {},
   "outputs": [],
   "source": [
    "import os\n",
    "path = 'c:/Users/kickk/USC Class/DSCI 510/final_project_dsci510'\n",
    "\n",
    "f_path = os.path.join(path)"
   ]
  },
  {
   "cell_type": "code",
   "execution_count": 11,
   "metadata": {},
   "outputs": [
    {
     "data": {
      "text/plain": [
       "'c:/Users/kickk/USC Class/DSCI 510/final_project_dsci510'"
      ]
     },
     "execution_count": 11,
     "metadata": {},
     "output_type": "execute_result"
    }
   ],
   "source": [
    "f_path"
   ]
  },
  {
   "cell_type": "code",
   "execution_count": 9,
   "metadata": {},
   "outputs": [
    {
     "ename": "SyntaxError",
     "evalue": "(unicode error) 'unicodeescape' codec can't decode bytes in position 2-3: truncated \\UXXXXXXXX escape (<ipython-input-9-6a0510e5b70c>, line 1)",
     "output_type": "error",
     "traceback": [
      "\u001b[1;36m  File \u001b[1;32m\"<ipython-input-9-6a0510e5b70c>\"\u001b[1;36m, line \u001b[1;32m1\u001b[0m\n\u001b[1;33m    path = 'c:\\Users\\kickk\\USC Class\\DSCI 510\\final_project_dsci510'\u001b[0m\n\u001b[1;37m           ^\u001b[0m\n\u001b[1;31mSyntaxError\u001b[0m\u001b[1;31m:\u001b[0m (unicode error) 'unicodeescape' codec can't decode bytes in position 2-3: truncated \\UXXXXXXXX escape\n"
     ]
    }
   ],
   "source": [
    "path = 'c:\\Users\\kickk\\USC Class\\DSCI 510\\final_project_dsci510'\n"
   ]
  },
  {
   "cell_type": "code",
   "execution_count": 5,
   "metadata": {},
   "outputs": [
    {
     "data": {
      "text/plain": [
       "'c:\\\\Users\\\\kickk\\\\USC Class\\\\DSCI 510\\\\final_project_dsci510'"
      ]
     },
     "execution_count": 5,
     "metadata": {},
     "output_type": "execute_result"
    }
   ],
   "source": [
    "os.getcwd()"
   ]
  },
  {
   "cell_type": "code",
   "execution_count": 61,
   "metadata": {},
   "outputs": [
    {
     "data": {
      "image/png": "[encoded data removed]",
      "text/plain": [
       "<Figure size 432x288 with 1 Axes>"
      ]
     },
     "metadata": {
      "needs_background": "light"
     },
     "output_type": "display_data"
    }
   ],
   "source": [
    "fix, ax = plt.subplots()\n",
    "\n",
    "# Setting figure size\n",
    "fig.set_figheight(10)\n",
    "fig.set_figwidth(10)\n",
    "\n",
    "plt.hist(momag, density=False, facecolor='grey', alpha = 0.75)\n",
    "\n",
    "ax.set_xscale('linear')\n",
    "\n",
    "ax.set_xlabel('Moment Magnitude Mw')\n",
    "ax.set_ylabel('Counts')\n",
    "\n",
    "plt.grid(which='major')\n",
    "plt.title(\"Observed Moment Magnitude\")\n",
    "\n",
    "plt.show()\n"
   ]
  }
 ],
 "metadata": {
  "kernelspec": {
   "display_name": "Python 3.8.8 ('base')",
   "language": "python",
   "name": "python3"
  },
  "language_info": {
   "codemirror_mode": {
    "name": "ipython",
    "version": 3
   },
   "file_extension": ".py",
   "mimetype": "text/x-python",
   "name": "python",
   "nbconvert_exporter": "python",
   "pygments_lexer": "ipython3",
   "version": "3.8.8 (default, Apr 13 2021, 15:08:03) [MSC v.1916 64 bit (AMD64)]"
  },
  "orig_nbformat": 4,
  "vscode": {
   "interpreter": {
    "hash": "ad2bdc8ecc057115af97d19610ffacc2b4e99fae6737bb82f5d7fb13d2f2c186"
   }
  }
 },
 "nbformat": 4,
 "nbformat_minor": 2
}
